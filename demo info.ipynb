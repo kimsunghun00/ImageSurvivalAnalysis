{
 "cells": [
  {
   "cell_type": "code",
   "execution_count": 2,
   "metadata": {},
   "outputs": [
    {
     "data": {
      "text/html": [
       "<div>\n",
       "<style scoped>\n",
       "    .dataframe tbody tr th:only-of-type {\n",
       "        vertical-align: middle;\n",
       "    }\n",
       "\n",
       "    .dataframe tbody tr th {\n",
       "        vertical-align: top;\n",
       "    }\n",
       "\n",
       "    .dataframe thead th {\n",
       "        text-align: right;\n",
       "    }\n",
       "</style>\n",
       "<table border=\"1\" class=\"dataframe\">\n",
       "  <thead>\n",
       "    <tr style=\"text-align: right;\">\n",
       "      <th></th>\n",
       "      <th>TCGA ID</th>\n",
       "      <th>TCGA Dataset</th>\n",
       "      <th>Histology</th>\n",
       "      <th>Grade</th>\n",
       "      <th>Age at diagnosis</th>\n",
       "      <th>Gender</th>\n",
       "      <th>Molecular subtype</th>\n",
       "      <th>Time to last followup or death (months)</th>\n",
       "      <th>Vital status</th>\n",
       "      <th>Slide count</th>\n",
       "      <th>Region count</th>\n",
       "    </tr>\n",
       "  </thead>\n",
       "  <tbody>\n",
       "    <tr>\n",
       "      <th>0</th>\n",
       "      <td>TCGA-CS-4938</td>\n",
       "      <td>LGG</td>\n",
       "      <td>astrocytoma</td>\n",
       "      <td>2.0</td>\n",
       "      <td>31</td>\n",
       "      <td>female</td>\n",
       "      <td>IDHmut-non-codel</td>\n",
       "      <td>3574</td>\n",
       "      <td>Alive</td>\n",
       "      <td>1</td>\n",
       "      <td>1</td>\n",
       "    </tr>\n",
       "    <tr>\n",
       "      <th>1</th>\n",
       "      <td>TCGA-CS-4944</td>\n",
       "      <td>LGG</td>\n",
       "      <td>astrocytoma</td>\n",
       "      <td>2.0</td>\n",
       "      <td>50</td>\n",
       "      <td>male</td>\n",
       "      <td>IDHmut-non-codel</td>\n",
       "      <td>1828</td>\n",
       "      <td>Alive</td>\n",
       "      <td>1</td>\n",
       "      <td>2</td>\n",
       "    </tr>\n",
       "    <tr>\n",
       "      <th>2</th>\n",
       "      <td>TCGA-CS-5395</td>\n",
       "      <td>LGG</td>\n",
       "      <td>oligodendroglioma</td>\n",
       "      <td>2.0</td>\n",
       "      <td>43</td>\n",
       "      <td>male</td>\n",
       "      <td>IDHwt</td>\n",
       "      <td>639</td>\n",
       "      <td>Deceased</td>\n",
       "      <td>1</td>\n",
       "      <td>1</td>\n",
       "    </tr>\n",
       "    <tr>\n",
       "      <th>3</th>\n",
       "      <td>TCGA-CS-6667</td>\n",
       "      <td>LGG</td>\n",
       "      <td>astrocytoma</td>\n",
       "      <td>2.0</td>\n",
       "      <td>39</td>\n",
       "      <td>female</td>\n",
       "      <td>IDHmut-non-codel</td>\n",
       "      <td>1469</td>\n",
       "      <td>Alive</td>\n",
       "      <td>1</td>\n",
       "      <td>1</td>\n",
       "    </tr>\n",
       "    <tr>\n",
       "      <th>4</th>\n",
       "      <td>TCGA-CS-6668</td>\n",
       "      <td>LGG</td>\n",
       "      <td>oligodendroglioma</td>\n",
       "      <td>2.0</td>\n",
       "      <td>57</td>\n",
       "      <td>female</td>\n",
       "      <td>IDHmut-codel</td>\n",
       "      <td>1519</td>\n",
       "      <td>Alive</td>\n",
       "      <td>1</td>\n",
       "      <td>1</td>\n",
       "    </tr>\n",
       "  </tbody>\n",
       "</table>\n",
       "</div>"
      ],
      "text/plain": [
       "        TCGA ID TCGA Dataset          Histology  Grade  Age at diagnosis  \\\n",
       "0  TCGA-CS-4938          LGG        astrocytoma    2.0                31   \n",
       "1  TCGA-CS-4944          LGG        astrocytoma    2.0                50   \n",
       "2  TCGA-CS-5395          LGG  oligodendroglioma    2.0                43   \n",
       "3  TCGA-CS-6667          LGG        astrocytoma    2.0                39   \n",
       "4  TCGA-CS-6668          LGG  oligodendroglioma    2.0                57   \n",
       "\n",
       "   Gender Molecular subtype  Time to last followup or death (months)  \\\n",
       "0  female  IDHmut-non-codel                                     3574   \n",
       "1    male  IDHmut-non-codel                                     1828   \n",
       "2    male             IDHwt                                      639   \n",
       "3  female  IDHmut-non-codel                                     1469   \n",
       "4  female      IDHmut-codel                                     1519   \n",
       "\n",
       "  Vital status  Slide count  Region count  \n",
       "0        Alive            1             1  \n",
       "1        Alive            1             2  \n",
       "2     Deceased            1             1  \n",
       "3        Alive            1             1  \n",
       "4        Alive            1             1  "
      ]
     },
     "execution_count": 2,
     "metadata": {},
     "output_type": "execute_result"
    }
   ],
   "source": [
    "import pandas as pd\n",
    "\n",
    "data = pd.read_csv('./data/grade_data.csv')\n",
    "data.head()"
   ]
  },
  {
   "cell_type": "markdown",
   "metadata": {},
   "source": [
    "## Gender"
   ]
  },
  {
   "cell_type": "code",
   "execution_count": 6,
   "metadata": {},
   "outputs": [
    {
     "data": {
      "text/plain": [
       "male      448\n",
       "female    321\n",
       "Name: Gender, dtype: int64"
      ]
     },
     "execution_count": 6,
     "metadata": {},
     "output_type": "execute_result"
    }
   ],
   "source": [
    "data['Gender'].value_counts(dropna=False)"
   ]
  },
  {
   "cell_type": "markdown",
   "metadata": {},
   "source": [
    "## Age at diagnosis"
   ]
  },
  {
   "cell_type": "code",
   "execution_count": 10,
   "metadata": {},
   "outputs": [
    {
     "data": {
      "text/plain": [
       "<matplotlib.axes._subplots.AxesSubplot at 0x299f4c2b308>"
      ]
     },
     "execution_count": 10,
     "metadata": {},
     "output_type": "execute_result"
    },
    {
     "data": {
      "image/png": "[encoded data removed]",
      "text/plain": [
       "<Figure size 432x288 with 1 Axes>"
      ]
     },
     "metadata": {
      "needs_background": "light"
     },
     "output_type": "display_data"
    }
   ],
   "source": [
    "data['Age at diagnosis'].hist()"
   ]
  },
  {
   "cell_type": "code",
   "execution_count": 12,
   "metadata": {},
   "outputs": [
    {
     "data": {
      "text/plain": [
       "< 40     238\n",
       "> 60     197\n",
       "50-60    179\n",
       "40-50    155\n",
       "Name: Age at diagnosis, dtype: int64"
      ]
     },
     "execution_count": 12,
     "metadata": {},
     "output_type": "execute_result"
    }
   ],
   "source": [
    "s = pd.cut(data['Age at diagnosis'], bins=[0, 39, 50, 60, 100], labels=['< 40', '40-50', '50-60', '> 60'])\n",
    "s.value_counts(dropna=False)"
   ]
  },
  {
   "cell_type": "markdown",
   "metadata": {},
   "source": [
    "## Grade"
   ]
  },
  {
   "cell_type": "code",
   "execution_count": 5,
   "metadata": {},
   "outputs": [
    {
     "data": {
      "text/plain": [
       "4.0    350\n",
       "3.0    205\n",
       "2.0    181\n",
       "NaN     33\n",
       "Name: Grade, dtype: int64"
      ]
     },
     "execution_count": 5,
     "metadata": {},
     "output_type": "execute_result"
    }
   ],
   "source": [
    "data['Grade'].value_counts(dropna=False)"
   ]
  },
  {
   "cell_type": "markdown",
   "metadata": {},
   "source": [
    "## Subtype"
   ]
  },
  {
   "cell_type": "code",
   "execution_count": 13,
   "metadata": {},
   "outputs": [
    {
     "data": {
      "text/plain": [
       "IDHwt               335\n",
       "IDHmut-non-codel    220\n",
       "IDHmut-codel        142\n",
       "NaN                  72\n",
       "Name: Molecular subtype, dtype: int64"
      ]
     },
     "execution_count": 13,
     "metadata": {},
     "output_type": "execute_result"
    }
   ],
   "source": [
    "data['Molecular subtype'].value_counts(dropna=False)"
   ]
  },
  {
   "cell_type": "markdown",
   "metadata": {},
   "source": [
    "## Censored"
   ]
  },
  {
   "cell_type": "code",
   "execution_count": 15,
   "metadata": {},
   "outputs": [
    {
     "data": {
      "text/plain": [
       "Deceased    388\n",
       "Alive       381\n",
       "Name: Vital status, dtype: int64"
      ]
     },
     "execution_count": 15,
     "metadata": {},
     "output_type": "execute_result"
    }
   ],
   "source": [
    "data['Vital status'].value_counts(dropna=False)"
   ]
  },
  {
   "cell_type": "code",
   "execution_count": null,
   "metadata": {},
   "outputs": [],
   "source": []
  }
 ],
 "metadata": {
  "kernelspec": {
   "display_name": "Python 3",
   "language": "python",
   "name": "python3"
  },
  "language_info": {
   "codemirror_mode": {
    "name": "ipython",
    "version": 3
   },
   "file_extension": ".py",
   "mimetype": "text/x-python",
   "name": "python",
   "nbconvert_exporter": "python",
   "pygments_lexer": "ipython3",
   "version": "3.7.6"
  }
 },
 "nbformat": 4,
 "nbformat_minor": 4
}
