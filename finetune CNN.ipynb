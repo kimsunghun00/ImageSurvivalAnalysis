{
 "cells": [
  {
   "cell_type": "code",
   "execution_count": 1,
   "metadata": {},
   "outputs": [
    {
     "data": {
      "text/html": [
       "<div>\n",
       "<style scoped>\n",
       "    .dataframe tbody tr th:only-of-type {\n",
       "        vertical-align: middle;\n",
       "    }\n",
       "\n",
       "    .dataframe tbody tr th {\n",
       "        vertical-align: top;\n",
       "    }\n",
       "\n",
       "    .dataframe thead th {\n",
       "        text-align: right;\n",
       "    }\n",
       "</style>\n",
       "<table border=\"1\" class=\"dataframe\">\n",
       "  <thead>\n",
       "    <tr style=\"text-align: right;\">\n",
       "      <th></th>\n",
       "      <th>TCGA ID</th>\n",
       "      <th>censored</th>\n",
       "      <th>Survival months</th>\n",
       "      <th>Grade</th>\n",
       "      <th>Age at diagnosis</th>\n",
       "      <th>Molecular subtype</th>\n",
       "    </tr>\n",
       "  </thead>\n",
       "  <tbody>\n",
       "    <tr>\n",
       "      <th>0</th>\n",
       "      <td>TCGA-02-0001</td>\n",
       "      <td>0</td>\n",
       "      <td>358</td>\n",
       "      <td>4.0</td>\n",
       "      <td>44</td>\n",
       "      <td>IDHwt</td>\n",
       "    </tr>\n",
       "    <tr>\n",
       "      <th>1</th>\n",
       "      <td>TCGA-02-0003</td>\n",
       "      <td>0</td>\n",
       "      <td>144</td>\n",
       "      <td>4.0</td>\n",
       "      <td>50</td>\n",
       "      <td>IDHwt</td>\n",
       "    </tr>\n",
       "    <tr>\n",
       "      <th>2</th>\n",
       "      <td>TCGA-02-0006</td>\n",
       "      <td>0</td>\n",
       "      <td>558</td>\n",
       "      <td>4.0</td>\n",
       "      <td>56</td>\n",
       "      <td>IDHwt</td>\n",
       "    </tr>\n",
       "    <tr>\n",
       "      <th>3</th>\n",
       "      <td>TCGA-02-0007</td>\n",
       "      <td>0</td>\n",
       "      <td>705</td>\n",
       "      <td>4.0</td>\n",
       "      <td>40</td>\n",
       "      <td>IDHwt</td>\n",
       "    </tr>\n",
       "    <tr>\n",
       "      <th>4</th>\n",
       "      <td>TCGA-02-0009</td>\n",
       "      <td>0</td>\n",
       "      <td>322</td>\n",
       "      <td>4.0</td>\n",
       "      <td>61</td>\n",
       "      <td>IDHwt</td>\n",
       "    </tr>\n",
       "    <tr>\n",
       "      <th>...</th>\n",
       "      <td>...</td>\n",
       "      <td>...</td>\n",
       "      <td>...</td>\n",
       "      <td>...</td>\n",
       "      <td>...</td>\n",
       "      <td>...</td>\n",
       "    </tr>\n",
       "    <tr>\n",
       "      <th>764</th>\n",
       "      <td>TCGA-WY-A85A</td>\n",
       "      <td>1</td>\n",
       "      <td>1320</td>\n",
       "      <td>NaN</td>\n",
       "      <td>20</td>\n",
       "      <td>IDHmut-non-codel</td>\n",
       "    </tr>\n",
       "    <tr>\n",
       "      <th>765</th>\n",
       "      <td>TCGA-WY-A85B</td>\n",
       "      <td>1</td>\n",
       "      <td>1393</td>\n",
       "      <td>NaN</td>\n",
       "      <td>24</td>\n",
       "      <td>IDHmut-non-codel</td>\n",
       "    </tr>\n",
       "    <tr>\n",
       "      <th>766</th>\n",
       "      <td>TCGA-WY-A85C</td>\n",
       "      <td>1</td>\n",
       "      <td>1426</td>\n",
       "      <td>NaN</td>\n",
       "      <td>36</td>\n",
       "      <td>IDHmut-non-codel</td>\n",
       "    </tr>\n",
       "    <tr>\n",
       "      <th>767</th>\n",
       "      <td>TCGA-WY-A85D</td>\n",
       "      <td>1</td>\n",
       "      <td>1147</td>\n",
       "      <td>NaN</td>\n",
       "      <td>60</td>\n",
       "      <td>IDHmut-non-codel</td>\n",
       "    </tr>\n",
       "    <tr>\n",
       "      <th>768</th>\n",
       "      <td>TCGA-WY-A85E</td>\n",
       "      <td>1</td>\n",
       "      <td>633</td>\n",
       "      <td>NaN</td>\n",
       "      <td>48</td>\n",
       "      <td>IDHmut-non-codel</td>\n",
       "    </tr>\n",
       "  </tbody>\n",
       "</table>\n",
       "<p>769 rows × 6 columns</p>\n",
       "</div>"
      ],
      "text/plain": [
       "          TCGA ID  censored  Survival months  Grade  Age at diagnosis  \\\n",
       "0    TCGA-02-0001         0              358    4.0                44   \n",
       "1    TCGA-02-0003         0              144    4.0                50   \n",
       "2    TCGA-02-0006         0              558    4.0                56   \n",
       "3    TCGA-02-0007         0              705    4.0                40   \n",
       "4    TCGA-02-0009         0              322    4.0                61   \n",
       "..            ...       ...              ...    ...               ...   \n",
       "764  TCGA-WY-A85A         1             1320    NaN                20   \n",
       "765  TCGA-WY-A85B         1             1393    NaN                24   \n",
       "766  TCGA-WY-A85C         1             1426    NaN                36   \n",
       "767  TCGA-WY-A85D         1             1147    NaN                60   \n",
       "768  TCGA-WY-A85E         1              633    NaN                48   \n",
       "\n",
       "    Molecular subtype  \n",
       "0               IDHwt  \n",
       "1               IDHwt  \n",
       "2               IDHwt  \n",
       "3               IDHwt  \n",
       "4               IDHwt  \n",
       "..                ...  \n",
       "764  IDHmut-non-codel  \n",
       "765  IDHmut-non-codel  \n",
       "766  IDHmut-non-codel  \n",
       "767  IDHmut-non-codel  \n",
       "768  IDHmut-non-codel  \n",
       "\n",
       "[769 rows x 6 columns]"
      ]
     },
     "execution_count": 1,
     "metadata": {},
     "output_type": "execute_result"
    }
   ],
   "source": [
    "import torch\n",
    "from torch import nn, optim\n",
    "from torch.utils.data import Dataset, DataLoader\n",
    "import pandas as pd\n",
    "import os\n",
    "from torchvision import transforms\n",
    "\n",
    "from datasets import LoadData, PretrainDataset\n",
    "\n",
    "ds = LoadData('./data')\n",
    "label_df = ds.load_dataset()\n",
    "image_df = ds.load_image()\n",
    "\n",
    "label_df"
   ]
  },
  {
   "cell_type": "code",
   "execution_count": 2,
   "metadata": {},
   "outputs": [
    {
     "data": {
      "text/html": [
       "<div>\n",
       "<style scoped>\n",
       "    .dataframe tbody tr th:only-of-type {\n",
       "        vertical-align: middle;\n",
       "    }\n",
       "\n",
       "    .dataframe tbody tr th {\n",
       "        vertical-align: top;\n",
       "    }\n",
       "\n",
       "    .dataframe thead th {\n",
       "        text-align: right;\n",
       "    }\n",
       "</style>\n",
       "<table border=\"1\" class=\"dataframe\">\n",
       "  <thead>\n",
       "    <tr style=\"text-align: right;\">\n",
       "      <th></th>\n",
       "      <th>TCGA ID</th>\n",
       "      <th>censored</th>\n",
       "      <th>Survival months</th>\n",
       "      <th>Grade</th>\n",
       "      <th>Age at diagnosis</th>\n",
       "      <th>Molecular subtype</th>\n",
       "      <th>Filename</th>\n",
       "    </tr>\n",
       "  </thead>\n",
       "  <tbody>\n",
       "    <tr>\n",
       "      <th>0</th>\n",
       "      <td>TCGA-02-0001</td>\n",
       "      <td>0</td>\n",
       "      <td>358</td>\n",
       "      <td>4.0</td>\n",
       "      <td>44</td>\n",
       "      <td>IDHwt</td>\n",
       "      <td>TCGA-02-0001-01Z-00-DX1.83fce43e-42ac-4dcd-b15...</td>\n",
       "    </tr>\n",
       "    <tr>\n",
       "      <th>1</th>\n",
       "      <td>TCGA-02-0001</td>\n",
       "      <td>0</td>\n",
       "      <td>358</td>\n",
       "      <td>4.0</td>\n",
       "      <td>44</td>\n",
       "      <td>IDHwt</td>\n",
       "      <td>TCGA-02-0001-01Z-00-DX1.83fce43e-42ac-4dcd-b15...</td>\n",
       "    </tr>\n",
       "    <tr>\n",
       "      <th>2</th>\n",
       "      <td>TCGA-02-0001</td>\n",
       "      <td>0</td>\n",
       "      <td>358</td>\n",
       "      <td>4.0</td>\n",
       "      <td>44</td>\n",
       "      <td>IDHwt</td>\n",
       "      <td>TCGA-02-0001-01Z-00-DX1.83fce43e-42ac-4dcd-b15...</td>\n",
       "    </tr>\n",
       "    <tr>\n",
       "      <th>3</th>\n",
       "      <td>TCGA-02-0001</td>\n",
       "      <td>0</td>\n",
       "      <td>358</td>\n",
       "      <td>4.0</td>\n",
       "      <td>44</td>\n",
       "      <td>IDHwt</td>\n",
       "      <td>TCGA-02-0001-01Z-00-DX1.83fce43e-42ac-4dcd-b15...</td>\n",
       "    </tr>\n",
       "    <tr>\n",
       "      <th>4</th>\n",
       "      <td>TCGA-02-0001</td>\n",
       "      <td>0</td>\n",
       "      <td>358</td>\n",
       "      <td>4.0</td>\n",
       "      <td>44</td>\n",
       "      <td>IDHwt</td>\n",
       "      <td>TCGA-02-0001-01Z-00-DX1.83fce43e-42ac-4dcd-b15...</td>\n",
       "    </tr>\n",
       "    <tr>\n",
       "      <th>...</th>\n",
       "      <td>...</td>\n",
       "      <td>...</td>\n",
       "      <td>...</td>\n",
       "      <td>...</td>\n",
       "      <td>...</td>\n",
       "      <td>...</td>\n",
       "      <td>...</td>\n",
       "    </tr>\n",
       "    <tr>\n",
       "      <th>13933</th>\n",
       "      <td>TCGA-WY-A85E</td>\n",
       "      <td>1</td>\n",
       "      <td>633</td>\n",
       "      <td>NaN</td>\n",
       "      <td>48</td>\n",
       "      <td>IDHmut-non-codel</td>\n",
       "      <td>TCGA-WY-A85E-01Z-00-DX1.AA7A4C1F-99AA-490D-B6D...</td>\n",
       "    </tr>\n",
       "    <tr>\n",
       "      <th>13934</th>\n",
       "      <td>TCGA-WY-A85E</td>\n",
       "      <td>1</td>\n",
       "      <td>633</td>\n",
       "      <td>NaN</td>\n",
       "      <td>48</td>\n",
       "      <td>IDHmut-non-codel</td>\n",
       "      <td>TCGA-WY-A85E-01Z-00-DX1.AA7A4C1F-99AA-490D-B6D...</td>\n",
       "    </tr>\n",
       "    <tr>\n",
       "      <th>13935</th>\n",
       "      <td>TCGA-WY-A85E</td>\n",
       "      <td>1</td>\n",
       "      <td>633</td>\n",
       "      <td>NaN</td>\n",
       "      <td>48</td>\n",
       "      <td>IDHmut-non-codel</td>\n",
       "      <td>TCGA-WY-A85E-01Z-00-DX1.AA7A4C1F-99AA-490D-B6D...</td>\n",
       "    </tr>\n",
       "    <tr>\n",
       "      <th>13936</th>\n",
       "      <td>TCGA-WY-A85E</td>\n",
       "      <td>1</td>\n",
       "      <td>633</td>\n",
       "      <td>NaN</td>\n",
       "      <td>48</td>\n",
       "      <td>IDHmut-non-codel</td>\n",
       "      <td>TCGA-WY-A85E-01Z-00-DX1.AA7A4C1F-99AA-490D-B6D...</td>\n",
       "    </tr>\n",
       "    <tr>\n",
       "      <th>13937</th>\n",
       "      <td>TCGA-WY-A85E</td>\n",
       "      <td>1</td>\n",
       "      <td>633</td>\n",
       "      <td>NaN</td>\n",
       "      <td>48</td>\n",
       "      <td>IDHmut-non-codel</td>\n",
       "      <td>TCGA-WY-A85E-01Z-00-DX1.AA7A4C1F-99AA-490D-B6D...</td>\n",
       "    </tr>\n",
       "  </tbody>\n",
       "</table>\n",
       "<p>13938 rows × 7 columns</p>\n",
       "</div>"
      ],
      "text/plain": [
       "            TCGA ID  censored  Survival months  Grade  Age at diagnosis  \\\n",
       "0      TCGA-02-0001         0              358    4.0                44   \n",
       "1      TCGA-02-0001         0              358    4.0                44   \n",
       "2      TCGA-02-0001         0              358    4.0                44   \n",
       "3      TCGA-02-0001         0              358    4.0                44   \n",
       "4      TCGA-02-0001         0              358    4.0                44   \n",
       "...             ...       ...              ...    ...               ...   \n",
       "13933  TCGA-WY-A85E         1              633    NaN                48   \n",
       "13934  TCGA-WY-A85E         1              633    NaN                48   \n",
       "13935  TCGA-WY-A85E         1              633    NaN                48   \n",
       "13936  TCGA-WY-A85E         1              633    NaN                48   \n",
       "13937  TCGA-WY-A85E         1              633    NaN                48   \n",
       "\n",
       "      Molecular subtype                                           Filename  \n",
       "0                 IDHwt  TCGA-02-0001-01Z-00-DX1.83fce43e-42ac-4dcd-b15...  \n",
       "1                 IDHwt  TCGA-02-0001-01Z-00-DX1.83fce43e-42ac-4dcd-b15...  \n",
       "2                 IDHwt  TCGA-02-0001-01Z-00-DX1.83fce43e-42ac-4dcd-b15...  \n",
       "3                 IDHwt  TCGA-02-0001-01Z-00-DX1.83fce43e-42ac-4dcd-b15...  \n",
       "4                 IDHwt  TCGA-02-0001-01Z-00-DX1.83fce43e-42ac-4dcd-b15...  \n",
       "...                 ...                                                ...  \n",
       "13933  IDHmut-non-codel  TCGA-WY-A85E-01Z-00-DX1.AA7A4C1F-99AA-490D-B6D...  \n",
       "13934  IDHmut-non-codel  TCGA-WY-A85E-01Z-00-DX1.AA7A4C1F-99AA-490D-B6D...  \n",
       "13935  IDHmut-non-codel  TCGA-WY-A85E-01Z-00-DX1.AA7A4C1F-99AA-490D-B6D...  \n",
       "13936  IDHmut-non-codel  TCGA-WY-A85E-01Z-00-DX1.AA7A4C1F-99AA-490D-B6D...  \n",
       "13937  IDHmut-non-codel  TCGA-WY-A85E-01Z-00-DX1.AA7A4C1F-99AA-490D-B6D...  \n",
       "\n",
       "[13938 rows x 7 columns]"
      ]
     },
     "execution_count": 2,
     "metadata": {},
     "output_type": "execute_result"
    }
   ],
   "source": [
    "label_df.merge(image_df, on='TCGA ID')"
   ]
  },
  {
   "cell_type": "code",
   "execution_count": 2,
   "metadata": {},
   "outputs": [],
   "source": [
    "from sklearn.model_selection import train_test_split\n",
    "\n",
    "training_set, test_df = train_test_split(label_df.merge(image_df, on='TCGA ID'), test_size=0.1, random_state=1234)\n",
    "train_df, val_df = train_test_split(training_set, test_size=0.1, random_state=1234)"
   ]
  },
  {
   "cell_type": "markdown",
   "metadata": {},
   "source": [
    "## Dataset"
   ]
  },
  {
   "cell_type": "code",
   "execution_count": 3,
   "metadata": {},
   "outputs": [],
   "source": [
    "image_path = './data/all_st_patches_512'\n",
    "train_dataset = PretrainDataset(dataframe = train_df, root_dir = image_path,\n",
    "                                transform = transforms.Compose([transforms.RandomHorizontalFlip(0.5),\n",
    "                                                                transforms.RandomVerticalFlip(0.5),\n",
    "                                                                transforms.ColorJitter(brightness=0.1, contrast = 0.1),\n",
    "                                                                transforms.Resize(224),\n",
    "                                                                transforms.ToTensor()]))\n",
    "\n",
    "val_dataset = PretrainDataset(dataframe = val_df, root_dir = image_path,\n",
    "                              transform = transforms.Compose([transforms.Resize(224),\n",
    "                                                              transforms.ToTensor()]))\n",
    "\n",
    "test_dataset = PretrainDataset(dataframe = test_df, root_dir = image_path,\n",
    "                               transform = transforms.Compose([transforms.Resize(224),\n",
    "                                                               transforms.ToTensor()]))"
   ]
  },
  {
   "cell_type": "code",
   "execution_count": 4,
   "metadata": {},
   "outputs": [
    {
     "data": {
      "text/plain": [
       "TCGA ID                 0\n",
       "censored                0\n",
       "Survival months         0\n",
       "Grade                 340\n",
       "Age at diagnosis        0\n",
       "Molecular subtype    1048\n",
       "Filename                0\n",
       "dtype: int64"
      ]
     },
     "execution_count": 4,
     "metadata": {},
     "output_type": "execute_result"
    }
   ],
   "source": [
    "train_df.isnull().sum()"
   ]
  },
  {
   "cell_type": "markdown",
   "metadata": {},
   "source": [
    "## DataLoader"
   ]
  },
  {
   "cell_type": "code",
   "execution_count": 5,
   "metadata": {},
   "outputs": [],
   "source": [
    "BATCH_SIZE = 128\n",
    "train_loader = DataLoader(train_dataset, batch_size = BATCH_SIZE, shuffle = True)\n",
    "val_loader = DataLoader(val_dataset, batch_size = BATCH_SIZE, shuffle = False)\n",
    "test_loader = DataLoader(test_dataset, batch_size = BATCH_SIZE, shuffle = False)"
   ]
  },
  {
   "cell_type": "markdown",
   "metadata": {},
   "source": [
    "## Pretrain Model"
   ]
  },
  {
   "cell_type": "code",
   "execution_count": 6,
   "metadata": {},
   "outputs": [
    {
     "data": {
      "text/plain": [
       "tensor([[0.3261],\n",
       "        [0.2065],\n",
       "        [0.2400],\n",
       "        [0.2572],\n",
       "        [0.3418],\n",
       "        [0.2717],\n",
       "        [0.1241],\n",
       "        [0.2635],\n",
       "        [0.3166],\n",
       "        [0.2974]], grad_fn=<AddmmBackward>)"
      ]
     },
     "execution_count": 6,
     "metadata": {},
     "output_type": "execute_result"
    }
   ],
   "source": [
    "from models import PretrainNet\n",
    "\n",
    "model = PretrainNet()\n",
    "x = torch.randn(10, 3, 224, 224)\n",
    "model(x)"
   ]
  },
  {
   "cell_type": "markdown",
   "metadata": {},
   "source": [
    "## Train"
   ]
  },
  {
   "cell_type": "code",
   "execution_count": 7,
   "metadata": {
    "scrolled": true
   },
   "outputs": [
    {
     "name": "stderr",
     "output_type": "stream",
     "text": [
      "100%|██████████████████████████████████████████████████████████████████████████████████| 89/89 [05:44<00:00,  3.87s/it]\n",
      "  0%|                                                                                           | 0/89 [00:00<?, ?it/s]"
     ]
    },
    {
     "name": "stdout",
     "output_type": "stream",
     "text": [
      "epoch: 1/50 \n",
      "train_cindex: 0.6347, val_loss: 1.9626, val_cindex: 0.6333\n"
     ]
    },
    {
     "name": "stderr",
     "output_type": "stream",
     "text": [
      "100%|██████████████████████████████████████████████████████████████████████████████████| 89/89 [05:23<00:00,  3.63s/it]\n",
      "  0%|                                                                                           | 0/89 [00:00<?, ?it/s]"
     ]
    },
    {
     "name": "stdout",
     "output_type": "stream",
     "text": [
      "epoch: 2/50 \n",
      "train_cindex: 0.6641, val_loss: 1.9360, val_cindex: 0.6771\n"
     ]
    },
    {
     "name": "stderr",
     "output_type": "stream",
     "text": [
      "100%|██████████████████████████████████████████████████████████████████████████████████| 89/89 [05:22<00:00,  3.62s/it]\n",
      "  0%|                                                                                           | 0/89 [00:00<?, ?it/s]"
     ]
    },
    {
     "name": "stdout",
     "output_type": "stream",
     "text": [
      "epoch: 3/50 \n",
      "train_cindex: 0.6717, val_loss: 1.9912, val_cindex: 0.5226\n"
     ]
    },
    {
     "name": "stderr",
     "output_type": "stream",
     "text": [
      "100%|██████████████████████████████████████████████████████████████████████████████████| 89/89 [05:17<00:00,  3.57s/it]\n",
      "  0%|                                                                                           | 0/89 [00:00<?, ?it/s]"
     ]
    },
    {
     "name": "stdout",
     "output_type": "stream",
     "text": [
      "epoch: 4/50 \n",
      "train_cindex: 0.6865, val_loss: 1.9236, val_cindex: 0.6716\n"
     ]
    },
    {
     "name": "stderr",
     "output_type": "stream",
     "text": [
      "100%|██████████████████████████████████████████████████████████████████████████████████| 89/89 [05:18<00:00,  3.58s/it]\n",
      "  0%|                                                                                           | 0/89 [00:00<?, ?it/s]"
     ]
    },
    {
     "name": "stdout",
     "output_type": "stream",
     "text": [
      "epoch: 5/50 \n",
      "train_cindex: 0.6938, val_loss: 1.9372, val_cindex: 0.6997\n"
     ]
    },
    {
     "name": "stderr",
     "output_type": "stream",
     "text": [
      "100%|██████████████████████████████████████████████████████████████████████████████████| 89/89 [05:22<00:00,  3.62s/it]\n",
      "  0%|                                                                                           | 0/89 [00:00<?, ?it/s]"
     ]
    },
    {
     "name": "stdout",
     "output_type": "stream",
     "text": [
      "epoch: 6/50 \n",
      "train_cindex: 0.6986, val_loss: 1.9508, val_cindex: 0.6993\n"
     ]
    },
    {
     "name": "stderr",
     "output_type": "stream",
     "text": [
      "100%|██████████████████████████████████████████████████████████████████████████████████| 89/89 [05:30<00:00,  3.71s/it]\n",
      "  0%|                                                                                           | 0/89 [00:00<?, ?it/s]"
     ]
    },
    {
     "name": "stdout",
     "output_type": "stream",
     "text": [
      "epoch: 7/50 \n",
      "train_cindex: 0.7069, val_loss: 2.0119, val_cindex: 0.3826\n"
     ]
    },
    {
     "name": "stderr",
     "output_type": "stream",
     "text": [
      "100%|██████████████████████████████████████████████████████████████████████████████████| 89/89 [05:27<00:00,  3.68s/it]\n",
      "  0%|                                                                                           | 0/89 [00:00<?, ?it/s]"
     ]
    },
    {
     "name": "stdout",
     "output_type": "stream",
     "text": [
      "epoch: 8/50 \n",
      "train_cindex: 0.7085, val_loss: 1.9634, val_cindex: 0.6938\n"
     ]
    },
    {
     "name": "stderr",
     "output_type": "stream",
     "text": [
      "100%|██████████████████████████████████████████████████████████████████████████████████| 89/89 [05:31<00:00,  3.73s/it]\n",
      "  0%|                                                                                           | 0/89 [00:00<?, ?it/s]"
     ]
    },
    {
     "name": "stdout",
     "output_type": "stream",
     "text": [
      "epoch: 9/50 \n",
      "train_cindex: 0.7105, val_loss: 1.9896, val_cindex: 0.5270\n"
     ]
    },
    {
     "name": "stderr",
     "output_type": "stream",
     "text": [
      "100%|██████████████████████████████████████████████████████████████████████████████████| 89/89 [05:30<00:00,  3.72s/it]\n",
      "  0%|                                                                                           | 0/89 [00:00<?, ?it/s]"
     ]
    },
    {
     "name": "stdout",
     "output_type": "stream",
     "text": [
      "epoch: 10/50 \n",
      "train_cindex: 0.7168, val_loss: 1.8841, val_cindex: 0.7125\n"
     ]
    },
    {
     "name": "stderr",
     "output_type": "stream",
     "text": [
      "100%|██████████████████████████████████████████████████████████████████████████████████| 89/89 [05:19<00:00,  3.59s/it]\n",
      "  0%|                                                                                           | 0/89 [00:00<?, ?it/s]"
     ]
    },
    {
     "name": "stdout",
     "output_type": "stream",
     "text": [
      "epoch: 11/50 \n",
      "train_cindex: 0.7199, val_loss: 1.9864, val_cindex: 0.5341\n"
     ]
    },
    {
     "name": "stderr",
     "output_type": "stream",
     "text": [
      "100%|██████████████████████████████████████████████████████████████████████████████████| 89/89 [05:19<00:00,  3.59s/it]\n",
      "  0%|                                                                                           | 0/89 [00:00<?, ?it/s]"
     ]
    },
    {
     "name": "stdout",
     "output_type": "stream",
     "text": [
      "epoch: 12/50 \n",
      "train_cindex: 0.7179, val_loss: 1.9768, val_cindex: 0.5513\n"
     ]
    },
    {
     "name": "stderr",
     "output_type": "stream",
     "text": [
      "100%|██████████████████████████████████████████████████████████████████████████████████| 89/89 [11:35<00:00,  7.81s/it]\n",
      "  0%|                                                                                           | 0/89 [00:00<?, ?it/s]"
     ]
    },
    {
     "name": "stdout",
     "output_type": "stream",
     "text": [
      "epoch: 13/50 \n",
      "train_cindex: 0.7225, val_loss: 2.1927, val_cindex: 0.6464\n"
     ]
    },
    {
     "name": "stderr",
     "output_type": "stream",
     "text": [
      "100%|██████████████████████████████████████████████████████████████████████████████████| 89/89 [11:41<00:00,  7.88s/it]\n",
      "  0%|                                                                                           | 0/89 [00:00<?, ?it/s]"
     ]
    },
    {
     "name": "stdout",
     "output_type": "stream",
     "text": [
      "epoch: 14/50 \n",
      "train_cindex: 0.7255, val_loss: 2.2819, val_cindex: 0.6956\n"
     ]
    },
    {
     "name": "stderr",
     "output_type": "stream",
     "text": [
      "100%|██████████████████████████████████████████████████████████████████████████████████| 89/89 [08:52<00:00,  5.98s/it]\n",
      "  0%|                                                                                           | 0/89 [00:00<?, ?it/s]"
     ]
    },
    {
     "name": "stdout",
     "output_type": "stream",
     "text": [
      "epoch: 15/50 \n",
      "train_cindex: 0.7314, val_loss: 1.9961, val_cindex: 0.5285\n"
     ]
    },
    {
     "name": "stderr",
     "output_type": "stream",
     "text": [
      "100%|██████████████████████████████████████████████████████████████████████████████████| 89/89 [05:28<00:00,  3.69s/it]\n",
      "  0%|                                                                                           | 0/89 [00:00<?, ?it/s]"
     ]
    },
    {
     "name": "stdout",
     "output_type": "stream",
     "text": [
      "epoch: 16/50 \n",
      "train_cindex: 0.7354, val_loss: 2.0369, val_cindex: 0.6796\n"
     ]
    },
    {
     "name": "stderr",
     "output_type": "stream",
     "text": [
      "100%|██████████████████████████████████████████████████████████████████████████████████| 89/89 [05:27<00:00,  3.68s/it]\n",
      "  0%|                                                                                           | 0/89 [00:00<?, ?it/s]"
     ]
    },
    {
     "name": "stdout",
     "output_type": "stream",
     "text": [
      "epoch: 17/50 \n",
      "train_cindex: 0.7357, val_loss: 2.0434, val_cindex: 0.5399\n"
     ]
    },
    {
     "name": "stderr",
     "output_type": "stream",
     "text": [
      "100%|██████████████████████████████████████████████████████████████████████████████████| 89/89 [05:30<00:00,  3.71s/it]\n",
      "  0%|                                                                                           | 0/89 [00:00<?, ?it/s]"
     ]
    },
    {
     "name": "stdout",
     "output_type": "stream",
     "text": [
      "epoch: 18/50 \n",
      "train_cindex: 0.7373, val_loss: 2.1905, val_cindex: 0.6934\n"
     ]
    },
    {
     "name": "stderr",
     "output_type": "stream",
     "text": [
      "100%|██████████████████████████████████████████████████████████████████████████████████| 89/89 [05:23<00:00,  3.63s/it]\n",
      "  0%|                                                                                           | 0/89 [00:00<?, ?it/s]"
     ]
    },
    {
     "name": "stdout",
     "output_type": "stream",
     "text": [
      "epoch: 19/50 \n",
      "train_cindex: 0.7376, val_loss: 1.8491, val_cindex: 0.7130\n"
     ]
    },
    {
     "name": "stderr",
     "output_type": "stream",
     "text": [
      "100%|██████████████████████████████████████████████████████████████████████████████████| 89/89 [05:24<00:00,  3.65s/it]\n",
      "  0%|                                                                                           | 0/89 [00:00<?, ?it/s]"
     ]
    },
    {
     "name": "stdout",
     "output_type": "stream",
     "text": [
      "epoch: 20/50 \n",
      "train_cindex: 0.7400, val_loss: 1.8817, val_cindex: 0.6996\n"
     ]
    },
    {
     "name": "stderr",
     "output_type": "stream",
     "text": [
      "100%|██████████████████████████████████████████████████████████████████████████████████| 89/89 [05:23<00:00,  3.64s/it]\n",
      "  0%|                                                                                           | 0/89 [00:00<?, ?it/s]"
     ]
    },
    {
     "name": "stdout",
     "output_type": "stream",
     "text": [
      "epoch: 21/50 \n",
      "train_cindex: 0.7423, val_loss: 2.0718, val_cindex: 0.5055\n"
     ]
    },
    {
     "name": "stderr",
     "output_type": "stream",
     "text": [
      "100%|██████████████████████████████████████████████████████████████████████████████████| 89/89 [05:23<00:00,  3.64s/it]\n",
      "  0%|                                                                                           | 0/89 [00:00<?, ?it/s]"
     ]
    },
    {
     "name": "stdout",
     "output_type": "stream",
     "text": [
      "epoch: 22/50 \n",
      "train_cindex: 0.7460, val_loss: 2.0252, val_cindex: 0.5187\n"
     ]
    },
    {
     "name": "stderr",
     "output_type": "stream",
     "text": [
      "100%|██████████████████████████████████████████████████████████████████████████████████| 89/89 [05:22<00:00,  3.62s/it]\n",
      "  0%|                                                                                           | 0/89 [00:00<?, ?it/s]"
     ]
    },
    {
     "name": "stdout",
     "output_type": "stream",
     "text": [
      "epoch: 23/50 \n",
      "train_cindex: 0.7462, val_loss: 2.0560, val_cindex: 0.6520\n"
     ]
    },
    {
     "name": "stderr",
     "output_type": "stream",
     "text": [
      "100%|██████████████████████████████████████████████████████████████████████████████████| 89/89 [05:24<00:00,  3.64s/it]\n",
      "  0%|                                                                                           | 0/89 [00:00<?, ?it/s]"
     ]
    },
    {
     "name": "stdout",
     "output_type": "stream",
     "text": [
      "epoch: 24/50 \n",
      "train_cindex: 0.7464, val_loss: 2.3016, val_cindex: 0.6444\n"
     ]
    },
    {
     "name": "stderr",
     "output_type": "stream",
     "text": [
      "100%|██████████████████████████████████████████████████████████████████████████████████| 89/89 [05:23<00:00,  3.64s/it]\n",
      "  0%|                                                                                           | 0/89 [00:00<?, ?it/s]"
     ]
    },
    {
     "name": "stdout",
     "output_type": "stream",
     "text": [
      "epoch: 25/50 \n",
      "train_cindex: 0.7515, val_loss: 2.4217, val_cindex: 0.6159\n"
     ]
    },
    {
     "name": "stderr",
     "output_type": "stream",
     "text": [
      "100%|██████████████████████████████████████████████████████████████████████████████████| 89/89 [05:22<00:00,  3.63s/it]\n",
      "  0%|                                                                                           | 0/89 [00:00<?, ?it/s]"
     ]
    },
    {
     "name": "stdout",
     "output_type": "stream",
     "text": [
      "epoch: 26/50 \n",
      "train_cindex: 0.7518, val_loss: 1.8634, val_cindex: 0.7006\n"
     ]
    },
    {
     "name": "stderr",
     "output_type": "stream",
     "text": [
      "100%|██████████████████████████████████████████████████████████████████████████████████| 89/89 [05:22<00:00,  3.62s/it]\n",
      "  0%|                                                                                           | 0/89 [00:00<?, ?it/s]"
     ]
    },
    {
     "name": "stdout",
     "output_type": "stream",
     "text": [
      "epoch: 27/50 \n",
      "train_cindex: 0.7531, val_loss: 2.1140, val_cindex: 0.4613\n"
     ]
    },
    {
     "name": "stderr",
     "output_type": "stream",
     "text": [
      "100%|██████████████████████████████████████████████████████████████████████████████████| 89/89 [05:24<00:00,  3.64s/it]\n",
      "  0%|                                                                                           | 0/89 [00:00<?, ?it/s]"
     ]
    },
    {
     "name": "stdout",
     "output_type": "stream",
     "text": [
      "epoch: 28/50 \n",
      "train_cindex: 0.7519, val_loss: 2.3196, val_cindex: 0.6927\n"
     ]
    },
    {
     "name": "stderr",
     "output_type": "stream",
     "text": [
      "100%|██████████████████████████████████████████████████████████████████████████████████| 89/89 [05:23<00:00,  3.63s/it]\n",
      "  0%|                                                                                           | 0/89 [00:00<?, ?it/s]"
     ]
    },
    {
     "name": "stdout",
     "output_type": "stream",
     "text": [
      "epoch: 29/50 \n",
      "train_cindex: 0.7525, val_loss: 2.1337, val_cindex: 0.6682\n"
     ]
    },
    {
     "name": "stderr",
     "output_type": "stream",
     "text": [
      "100%|██████████████████████████████████████████████████████████████████████████████████| 89/89 [05:22<00:00,  3.63s/it]\n",
      "  0%|                                                                                           | 0/89 [00:00<?, ?it/s]"
     ]
    },
    {
     "name": "stdout",
     "output_type": "stream",
     "text": [
      "epoch: 30/50 \n",
      "train_cindex: 0.7540, val_loss: 1.9267, val_cindex: 0.6493\n"
     ]
    },
    {
     "name": "stderr",
     "output_type": "stream",
     "text": [
      "100%|██████████████████████████████████████████████████████████████████████████████████| 89/89 [05:22<00:00,  3.63s/it]\n",
      "  0%|                                                                                           | 0/89 [00:00<?, ?it/s]"
     ]
    },
    {
     "name": "stdout",
     "output_type": "stream",
     "text": [
      "epoch: 31/50 \n",
      "train_cindex: 0.7578, val_loss: 2.2519, val_cindex: 0.6698\n"
     ]
    },
    {
     "name": "stderr",
     "output_type": "stream",
     "text": [
      "100%|██████████████████████████████████████████████████████████████████████████████████| 89/89 [05:23<00:00,  3.63s/it]\n",
      "  0%|                                                                                           | 0/89 [00:00<?, ?it/s]"
     ]
    },
    {
     "name": "stdout",
     "output_type": "stream",
     "text": [
      "epoch: 32/50 \n",
      "train_cindex: 0.7603, val_loss: 1.9189, val_cindex: 0.6634\n"
     ]
    },
    {
     "name": "stderr",
     "output_type": "stream",
     "text": [
      "100%|██████████████████████████████████████████████████████████████████████████████████| 89/89 [05:23<00:00,  3.64s/it]\n",
      "  0%|                                                                                           | 0/89 [00:00<?, ?it/s]"
     ]
    },
    {
     "name": "stdout",
     "output_type": "stream",
     "text": [
      "epoch: 33/50 \n",
      "train_cindex: 0.7572, val_loss: 2.3527, val_cindex: 0.6368\n"
     ]
    },
    {
     "name": "stderr",
     "output_type": "stream",
     "text": [
      "100%|██████████████████████████████████████████████████████████████████████████████████| 89/89 [05:25<00:00,  3.66s/it]\n",
      "  0%|                                                                                           | 0/89 [00:00<?, ?it/s]"
     ]
    },
    {
     "name": "stdout",
     "output_type": "stream",
     "text": [
      "epoch: 34/50 \n",
      "train_cindex: 0.7612, val_loss: 1.8458, val_cindex: 0.7159\n"
     ]
    },
    {
     "name": "stderr",
     "output_type": "stream",
     "text": [
      "100%|██████████████████████████████████████████████████████████████████████████████████| 89/89 [05:22<00:00,  3.63s/it]\n",
      "  0%|                                                                                           | 0/89 [00:00<?, ?it/s]"
     ]
    },
    {
     "name": "stdout",
     "output_type": "stream",
     "text": [
      "epoch: 35/50 \n",
      "train_cindex: 0.7625, val_loss: 2.6031, val_cindex: 0.5779\n"
     ]
    },
    {
     "name": "stderr",
     "output_type": "stream",
     "text": [
      "100%|██████████████████████████████████████████████████████████████████████████████████| 89/89 [05:22<00:00,  3.62s/it]\n",
      "  0%|                                                                                           | 0/89 [00:00<?, ?it/s]"
     ]
    },
    {
     "name": "stdout",
     "output_type": "stream",
     "text": [
      "epoch: 36/50 \n",
      "train_cindex: 0.7626, val_loss: 1.8397, val_cindex: 0.7274\n"
     ]
    },
    {
     "name": "stderr",
     "output_type": "stream",
     "text": [
      "100%|██████████████████████████████████████████████████████████████████████████████████| 89/89 [05:22<00:00,  3.62s/it]\n",
      "  0%|                                                                                           | 0/89 [00:00<?, ?it/s]"
     ]
    },
    {
     "name": "stdout",
     "output_type": "stream",
     "text": [
      "epoch: 37/50 \n",
      "train_cindex: 0.7644, val_loss: 1.9401, val_cindex: 0.6936\n"
     ]
    },
    {
     "name": "stderr",
     "output_type": "stream",
     "text": [
      "100%|██████████████████████████████████████████████████████████████████████████████████| 89/89 [05:23<00:00,  3.64s/it]\n",
      "  0%|                                                                                           | 0/89 [00:00<?, ?it/s]"
     ]
    },
    {
     "name": "stdout",
     "output_type": "stream",
     "text": [
      "epoch: 38/50 \n",
      "train_cindex: 0.7657, val_loss: 1.9583, val_cindex: 0.6246\n"
     ]
    },
    {
     "name": "stderr",
     "output_type": "stream",
     "text": [
      "100%|██████████████████████████████████████████████████████████████████████████████████| 89/89 [05:29<00:00,  3.70s/it]\n",
      "  0%|                                                                                           | 0/89 [00:00<?, ?it/s]"
     ]
    },
    {
     "name": "stdout",
     "output_type": "stream",
     "text": [
      "epoch: 39/50 \n",
      "train_cindex: 0.7635, val_loss: 2.0003, val_cindex: 0.5505\n"
     ]
    },
    {
     "name": "stderr",
     "output_type": "stream",
     "text": [
      "100%|██████████████████████████████████████████████████████████████████████████████████| 89/89 [05:36<00:00,  3.78s/it]\n",
      "  0%|                                                                                           | 0/89 [00:00<?, ?it/s]"
     ]
    },
    {
     "name": "stdout",
     "output_type": "stream",
     "text": [
      "epoch: 40/50 \n",
      "train_cindex: 0.7662, val_loss: 1.9690, val_cindex: 0.5961\n"
     ]
    },
    {
     "name": "stderr",
     "output_type": "stream",
     "text": [
      "100%|██████████████████████████████████████████████████████████████████████████████████| 89/89 [05:23<00:00,  3.64s/it]\n",
      "  0%|                                                                                           | 0/89 [00:00<?, ?it/s]"
     ]
    },
    {
     "name": "stdout",
     "output_type": "stream",
     "text": [
      "epoch: 41/50 \n",
      "train_cindex: 0.7686, val_loss: 1.9880, val_cindex: 0.6185\n"
     ]
    },
    {
     "name": "stderr",
     "output_type": "stream",
     "text": [
      "100%|██████████████████████████████████████████████████████████████████████████████████| 89/89 [05:32<00:00,  3.74s/it]\n",
      "  0%|                                                                                           | 0/89 [00:00<?, ?it/s]"
     ]
    },
    {
     "name": "stdout",
     "output_type": "stream",
     "text": [
      "epoch: 42/50 \n",
      "train_cindex: 0.7687, val_loss: 2.0235, val_cindex: 0.6960\n"
     ]
    },
    {
     "name": "stderr",
     "output_type": "stream",
     "text": [
      "100%|██████████████████████████████████████████████████████████████████████████████████| 89/89 [05:34<00:00,  3.75s/it]\n",
      "  0%|                                                                                           | 0/89 [00:00<?, ?it/s]"
     ]
    },
    {
     "name": "stdout",
     "output_type": "stream",
     "text": [
      "epoch: 43/50 \n",
      "train_cindex: 0.7698, val_loss: 1.8549, val_cindex: 0.7025\n"
     ]
    },
    {
     "name": "stderr",
     "output_type": "stream",
     "text": [
      "100%|██████████████████████████████████████████████████████████████████████████████████| 89/89 [05:26<00:00,  3.67s/it]\n",
      "  0%|                                                                                           | 0/89 [00:00<?, ?it/s]"
     ]
    },
    {
     "name": "stdout",
     "output_type": "stream",
     "text": [
      "epoch: 44/50 \n",
      "train_cindex: 0.7719, val_loss: 1.9927, val_cindex: 0.5754\n"
     ]
    },
    {
     "name": "stderr",
     "output_type": "stream",
     "text": [
      "100%|██████████████████████████████████████████████████████████████████████████████████| 89/89 [05:30<00:00,  3.71s/it]\n",
      "  0%|                                                                                           | 0/89 [00:00<?, ?it/s]"
     ]
    },
    {
     "name": "stdout",
     "output_type": "stream",
     "text": [
      "epoch: 45/50 \n",
      "train_cindex: 0.7701, val_loss: 2.0242, val_cindex: 0.7305\n"
     ]
    },
    {
     "name": "stderr",
     "output_type": "stream",
     "text": [
      "100%|██████████████████████████████████████████████████████████████████████████████████| 89/89 [05:43<00:00,  3.86s/it]\n",
      "  0%|                                                                                           | 0/89 [00:00<?, ?it/s]"
     ]
    },
    {
     "name": "stdout",
     "output_type": "stream",
     "text": [
      "epoch: 46/50 \n",
      "train_cindex: 0.7738, val_loss: 1.9814, val_cindex: 0.5624\n"
     ]
    },
    {
     "name": "stderr",
     "output_type": "stream",
     "text": [
      "100%|██████████████████████████████████████████████████████████████████████████████████| 89/89 [05:37<00:00,  3.79s/it]\n",
      "  0%|                                                                                           | 0/89 [00:00<?, ?it/s]"
     ]
    },
    {
     "name": "stdout",
     "output_type": "stream",
     "text": [
      "epoch: 47/50 \n",
      "train_cindex: 0.7754, val_loss: 2.0660, val_cindex: 0.5617\n"
     ]
    },
    {
     "name": "stderr",
     "output_type": "stream",
     "text": [
      "100%|██████████████████████████████████████████████████████████████████████████████████| 89/89 [05:39<00:00,  3.81s/it]\n",
      "  0%|                                                                                           | 0/89 [00:00<?, ?it/s]"
     ]
    },
    {
     "name": "stdout",
     "output_type": "stream",
     "text": [
      "epoch: 48/50 \n",
      "train_cindex: 0.7745, val_loss: 1.9185, val_cindex: 0.6617\n"
     ]
    },
    {
     "name": "stderr",
     "output_type": "stream",
     "text": [
      "100%|██████████████████████████████████████████████████████████████████████████████████| 89/89 [05:31<00:00,  3.73s/it]\n",
      "  0%|                                                                                           | 0/89 [00:00<?, ?it/s]"
     ]
    },
    {
     "name": "stdout",
     "output_type": "stream",
     "text": [
      "epoch: 49/50 \n",
      "train_cindex: 0.7761, val_loss: 2.1664, val_cindex: 0.6881\n"
     ]
    },
    {
     "name": "stderr",
     "output_type": "stream",
     "text": [
      "100%|██████████████████████████████████████████████████████████████████████████████████| 89/89 [05:35<00:00,  3.77s/it]\n"
     ]
    },
    {
     "name": "stdout",
     "output_type": "stream",
     "text": [
      "epoch: 50/50 \n",
      "train_cindex: 0.7786, val_loss: 2.0112, val_cindex: 0.5322\n",
      "Training complete in 313m 13s\n"
     ]
    }
   ],
   "source": [
    "from train import Trainer\n",
    "from utils.utils import CoxLoss, lifelines_cindex\n",
    "\n",
    "device = 'cuda:0'\n",
    "model.to(device)\n",
    "\n",
    "trainer = Trainer(model, train_loader, val_loader, criterion = CoxLoss, optimizer = optim.Adam,\n",
    "                  epochs = 50, lr = 0.0005, device = device)\n",
    "trainer.fit()"
   ]
  },
  {
   "cell_type": "code",
   "execution_count": 8,
   "metadata": {},
   "outputs": [
    {
     "data": {
      "image/png": "[encoded data removed]",
      "text/plain": [
       "<Figure size 432x288 with 1 Axes>"
      ]
     },
     "metadata": {
      "needs_background": "light"
     },
     "output_type": "display_data"
    },
    {
     "data": {
      "image/png": "[encoded data removed]",
      "text/plain": [
       "<Figure size 432x288 with 1 Axes>"
      ]
     },
     "metadata": {
      "needs_background": "light"
     },
     "output_type": "display_data"
    }
   ],
   "source": [
    "import matplotlib.pyplot as plt\n",
    "%matplotlib inline\n",
    "\n",
    "history = trainer.history()\n",
    "plt.plot(history['train_cindices'])\n",
    "plt.plot(history['val_cindices'])\n",
    "plt.title('Train and Validation C-Index')\n",
    "plt.show()\n",
    "\n",
    "\n",
    "plt.plot(history['val_losses'])\n",
    "plt.title('Train and Validation loss')\n",
    "plt.show()"
   ]
  },
  {
   "cell_type": "markdown",
   "metadata": {},
   "source": [
    "## Evaluation"
   ]
  },
  {
   "cell_type": "code",
   "execution_count": 9,
   "metadata": {},
   "outputs": [
    {
     "name": "stderr",
     "output_type": "stream",
     "text": [
      "100%|██████████████████████████████████████████████████████████████████████████████████| 11/11 [00:15<00:00,  1.41s/it]"
     ]
    },
    {
     "name": "stdout",
     "output_type": "stream",
     "text": [
      "0.7418560463541275\n"
     ]
    },
    {
     "name": "stderr",
     "output_type": "stream",
     "text": [
      "\n"
     ]
    },
    {
     "data": {
      "text/plain": [
       "0.7418560463541275"
      ]
     },
     "execution_count": 9,
     "metadata": {},
     "output_type": "execute_result"
    }
   ],
   "source": [
    "trainer.evaluation(test_loader, device)"
   ]
  },
  {
   "cell_type": "markdown",
   "metadata": {},
   "source": [
    "## save"
   ]
  },
  {
   "cell_type": "code",
   "execution_count": 10,
   "metadata": {},
   "outputs": [],
   "source": [
    "model = trainer.get_best_model()\n",
    "model.to('cpu')\n",
    "torch.save(model.state_dict(), 'pre_cnn_model2.pt')"
   ]
  },
  {
   "cell_type": "code",
   "execution_count": null,
   "metadata": {},
   "outputs": [],
   "source": []
  }
 ],
 "metadata": {
  "kernelspec": {
   "display_name": "PyTorch",
   "language": "python",
   "name": "pytorch"
  },
  "language_info": {
   "codemirror_mode": {
    "name": "ipython",
    "version": 3
   },
   "file_extension": ".py",
   "mimetype": "text/x-python",
   "name": "python",
   "nbconvert_exporter": "python",
   "pygments_lexer": "ipython3",
   "version": "3.7.10"
  }
 },
 "nbformat": 4,
 "nbformat_minor": 4
}
