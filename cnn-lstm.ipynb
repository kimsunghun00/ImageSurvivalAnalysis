{
 "cells": [
  {
   "cell_type": "code",
   "execution_count": 1,
   "metadata": {},
   "outputs": [],
   "source": [
    "import torch\n",
    "from torch import nn, optim\n",
    "from torch.utils.data import Dataset, DataLoader\n",
    "import pandas as pd\n",
    "import os\n",
    "from torchvision import transforms\n",
    "\n",
    "from datasets import LoadData, ImageDataset\n",
    "\n",
    "ds = LoadData('./data')\n",
    "train_set, val_set, test_set = ds.train_test_split(test_size =0.1, random_state=1234)"
   ]
  },
  {
   "cell_type": "code",
   "execution_count": 2,
   "metadata": {},
   "outputs": [],
   "source": [
    "train_df = train_set.merge(ds.load_image(), on = 'TCGA ID')\n",
    "val_df = val_set.merge(ds.load_image(), on = 'TCGA ID')\n",
    "test_df = test_set.merge(ds.load_image(), on = 'TCGA ID')"
   ]
  },
  {
   "cell_type": "markdown",
   "metadata": {},
   "source": [
    "## Dataset"
   ]
  },
  {
   "cell_type": "code",
   "execution_count": 3,
   "metadata": {},
   "outputs": [],
   "source": [
    "image_path = './data/all_st_patches_512'\n",
    "SAMPLE_SIZE = 9\n",
    "train_dataset = ImageDataset(dataframe = train_df, root_dir = image_path, sample_size = SAMPLE_SIZE,\n",
    "                             transform = transforms.Compose([transforms.RandomHorizontalFlip(0.5),\n",
    "                                                             transforms.RandomVerticalFlip(0.5),\n",
    "                                                             transforms.Resize(224),\n",
    "                                                             transforms.ToTensor()]))\n",
    "\n",
    "val_dataset = ImageDataset(dataframe = val_df, root_dir = image_path, sample_size = SAMPLE_SIZE,\n",
    "                            transform = transforms.Compose([transforms.Resize(224),\n",
    "                                                            transforms.ToTensor()]))\n",
    "\n",
    "test_dataset = ImageDataset(dataframe = test_df, root_dir = image_path, sample_size = SAMPLE_SIZE,\n",
    "                            transform = transforms.Compose([transforms.Resize(224),\n",
    "                                                            transforms.ToTensor()]))"
   ]
  },
  {
   "cell_type": "code",
   "execution_count": 4,
   "metadata": {},
   "outputs": [
    {
     "data": {
      "text/plain": [
       "torch.Size([9, 3, 224, 224])"
      ]
     },
     "execution_count": 4,
     "metadata": {},
     "output_type": "execute_result"
    }
   ],
   "source": [
    "train_dataset[0]['image'].shape"
   ]
  },
  {
   "cell_type": "markdown",
   "metadata": {},
   "source": [
    "## DataLoader"
   ]
  },
  {
   "cell_type": "code",
   "execution_count": 7,
   "metadata": {},
   "outputs": [],
   "source": [
    "BATCH_SIZE = 8\n",
    "train_loader = DataLoader(train_dataset, batch_size = BATCH_SIZE, shuffle = True)\n",
    "val_loader = DataLoader(val_dataset, batch_size = BATCH_SIZE, shuffle = False)\n",
    "test_loader = DataLoader(test_dataset, batch_size = BATCH_SIZE, shuffle = False)"
   ]
  },
  {
   "cell_type": "code",
   "execution_count": 6,
   "metadata": {},
   "outputs": [],
   "source": [
    "from models import PretrainNet\n",
    "\n",
    "#device = torch.device('cpu')\n",
    "pretrain_model = PretrainNet()\n",
    "#pretrain_model.load_state_dict(torch.load('pre_cnn_model.pt', map_location=device))"
   ]
  },
  {
   "cell_type": "code",
   "execution_count": 7,
   "metadata": {},
   "outputs": [
    {
     "name": "stdout",
     "output_type": "stream",
     "text": [
      "Total Number of Parameters : 110104\n"
     ]
    }
   ],
   "source": [
    "from models import Model\n",
    "\n",
    "model = Model(pretrain_model, sample_size =SAMPLE_SIZE)\n",
    "total_params = sum(p.numel() for p in model.parameters())\n",
    "print('Total Number of Parameters :', total_params)"
   ]
  },
  {
   "cell_type": "code",
   "execution_count": 8,
   "metadata": {},
   "outputs": [],
   "source": [
    "#for name, param in model.named_parameters():\n",
    "#    if param.requires_grad and 'pretrain_cnn_model' in name:\n",
    "#        param.requires_grad = False"
   ]
  },
  {
   "cell_type": "code",
   "execution_count": 9,
   "metadata": {},
   "outputs": [
    {
     "data": {
      "text/plain": [
       "torch.Size([10, 1])"
      ]
     },
     "execution_count": 9,
     "metadata": {},
     "output_type": "execute_result"
    }
   ],
   "source": [
    "x = torch.randn(10, SAMPLE_SIZE, 3, 224, 224)\n",
    "model(x).shape"
   ]
  },
  {
   "cell_type": "markdown",
   "metadata": {},
   "source": [
    "## Train"
   ]
  },
  {
   "cell_type": "code",
   "execution_count": 10,
   "metadata": {
    "scrolled": true
   },
   "outputs": [
    {
     "name": "stderr",
     "output_type": "stream",
     "text": [
      "100%|██████████████████████████████████████████████████████████████████████████████████| 78/78 [01:01<00:00,  1.28it/s]\n",
      "  0%|                                                                                           | 0/78 [00:00<?, ?it/s]"
     ]
    },
    {
     "name": "stdout",
     "output_type": "stream",
     "text": [
      "epoch: 1/25 \n",
      "train_loss: 0.7132, train_cindex: 0.5766, train_mse: 536.6756, val_loss: 1.7378, val_cindex: 0.6043, val_mse: 232.9684\n"
     ]
    },
    {
     "name": "stderr",
     "output_type": "stream",
     "text": [
      "100%|██████████████████████████████████████████████████████████████████████████████████| 78/78 [01:00<00:00,  1.28it/s]\n",
      "  0%|                                                                                           | 0/78 [00:00<?, ?it/s]"
     ]
    },
    {
     "name": "stdout",
     "output_type": "stream",
     "text": [
      "epoch: 2/25 \n",
      "train_loss: 0.6706, train_cindex: 0.6371, train_mse: 538.5466, val_loss: 1.7364, val_cindex: 0.7002, val_mse: 224.9965\n"
     ]
    },
    {
     "name": "stderr",
     "output_type": "stream",
     "text": [
      "100%|██████████████████████████████████████████████████████████████████████████████████| 78/78 [01:00<00:00,  1.29it/s]\n",
      "  0%|                                                                                           | 0/78 [00:00<?, ?it/s]"
     ]
    },
    {
     "name": "stdout",
     "output_type": "stream",
     "text": [
      "epoch: 3/25 \n",
      "train_loss: 0.6726, train_cindex: 0.6583, train_mse: 544.7375, val_loss: 1.7327, val_cindex: 0.6933, val_mse: 227.1473\n"
     ]
    },
    {
     "name": "stderr",
     "output_type": "stream",
     "text": [
      "100%|██████████████████████████████████████████████████████████████████████████████████| 78/78 [01:00<00:00,  1.29it/s]\n",
      "  0%|                                                                                           | 0/78 [00:00<?, ?it/s]"
     ]
    },
    {
     "name": "stdout",
     "output_type": "stream",
     "text": [
      "epoch: 4/25 \n",
      "train_loss: 0.6532, train_cindex: 0.6541, train_mse: 542.5856, val_loss: 1.6825, val_cindex: 0.7055, val_mse: 226.6925\n"
     ]
    },
    {
     "name": "stderr",
     "output_type": "stream",
     "text": [
      "100%|██████████████████████████████████████████████████████████████████████████████████| 78/78 [00:59<00:00,  1.30it/s]\n",
      "  0%|                                                                                           | 0/78 [00:00<?, ?it/s]"
     ]
    },
    {
     "name": "stdout",
     "output_type": "stream",
     "text": [
      "epoch: 5/25 \n",
      "train_loss: 0.6513, train_cindex: 0.6422, train_mse: 543.4098, val_loss: 1.6963, val_cindex: 0.6933, val_mse: 248.2456\n"
     ]
    },
    {
     "name": "stderr",
     "output_type": "stream",
     "text": [
      "100%|██████████████████████████████████████████████████████████████████████████████████| 78/78 [00:59<00:00,  1.31it/s]\n",
      "  0%|                                                                                           | 0/78 [00:00<?, ?it/s]"
     ]
    },
    {
     "name": "stdout",
     "output_type": "stream",
     "text": [
      "epoch: 6/25 \n",
      "train_loss: 0.6475, train_cindex: 0.6606, train_mse: 543.7393, val_loss: 1.6709, val_cindex: 0.7002, val_mse: 230.0002\n"
     ]
    },
    {
     "name": "stderr",
     "output_type": "stream",
     "text": [
      "100%|██████████████████████████████████████████████████████████████████████████████████| 78/78 [00:59<00:00,  1.31it/s]\n",
      "  0%|                                                                                           | 0/78 [00:00<?, ?it/s]"
     ]
    },
    {
     "name": "stdout",
     "output_type": "stream",
     "text": [
      "epoch: 7/25 \n",
      "train_loss: 0.6516, train_cindex: 0.6483, train_mse: 541.3569, val_loss: 1.6944, val_cindex: 0.6986, val_mse: 246.7399\n"
     ]
    },
    {
     "name": "stderr",
     "output_type": "stream",
     "text": [
      "100%|██████████████████████████████████████████████████████████████████████████████████| 78/78 [00:59<00:00,  1.30it/s]\n",
      "  0%|                                                                                           | 0/78 [00:00<?, ?it/s]"
     ]
    },
    {
     "name": "stdout",
     "output_type": "stream",
     "text": [
      "epoch: 8/25 \n",
      "train_loss: 0.6511, train_cindex: 0.6581, train_mse: 540.0532, val_loss: 1.6720, val_cindex: 0.7070, val_mse: 234.9412\n"
     ]
    },
    {
     "name": "stderr",
     "output_type": "stream",
     "text": [
      "100%|██████████████████████████████████████████████████████████████████████████████████| 78/78 [01:00<00:00,  1.29it/s]\n",
      "  0%|                                                                                           | 0/78 [00:00<?, ?it/s]"
     ]
    },
    {
     "name": "stdout",
     "output_type": "stream",
     "text": [
      "epoch: 9/25 \n",
      "train_loss: 0.6482, train_cindex: 0.6570, train_mse: 542.9416, val_loss: 1.7270, val_cindex: 0.7078, val_mse: 224.9112\n"
     ]
    },
    {
     "name": "stderr",
     "output_type": "stream",
     "text": [
      "100%|██████████████████████████████████████████████████████████████████████████████████| 78/78 [01:00<00:00,  1.28it/s]\n",
      "  0%|                                                                                           | 0/78 [00:00<?, ?it/s]"
     ]
    },
    {
     "name": "stdout",
     "output_type": "stream",
     "text": [
      "epoch: 10/25 \n",
      "train_loss: 0.6337, train_cindex: 0.6672, train_mse: 541.6722, val_loss: 1.6530, val_cindex: 0.7062, val_mse: 233.2890\n"
     ]
    },
    {
     "name": "stderr",
     "output_type": "stream",
     "text": [
      "100%|██████████████████████████████████████████████████████████████████████████████████| 78/78 [01:00<00:00,  1.29it/s]\n",
      "  0%|                                                                                           | 0/78 [00:00<?, ?it/s]"
     ]
    },
    {
     "name": "stdout",
     "output_type": "stream",
     "text": [
      "epoch: 11/25 \n",
      "train_loss: 0.6395, train_cindex: 0.6597, train_mse: 541.8561, val_loss: 1.6817, val_cindex: 0.7032, val_mse: 254.1868\n"
     ]
    },
    {
     "name": "stderr",
     "output_type": "stream",
     "text": [
      "100%|██████████████████████████████████████████████████████████████████████████████████| 78/78 [01:00<00:00,  1.29it/s]\n",
      "  0%|                                                                                           | 0/78 [00:00<?, ?it/s]"
     ]
    },
    {
     "name": "stdout",
     "output_type": "stream",
     "text": [
      "epoch: 12/25 \n",
      "train_loss: 0.6425, train_cindex: 0.6679, train_mse: 545.8417, val_loss: 1.6801, val_cindex: 0.7100, val_mse: 235.3085\n"
     ]
    },
    {
     "name": "stderr",
     "output_type": "stream",
     "text": [
      "100%|██████████████████████████████████████████████████████████████████████████████████| 78/78 [01:00<00:00,  1.29it/s]\n",
      "  0%|                                                                                           | 0/78 [00:00<?, ?it/s]"
     ]
    },
    {
     "name": "stdout",
     "output_type": "stream",
     "text": [
      "epoch: 13/25 \n",
      "train_loss: 0.6490, train_cindex: 0.6616, train_mse: 544.9334, val_loss: 1.6404, val_cindex: 0.7062, val_mse: 239.2644\n"
     ]
    },
    {
     "name": "stderr",
     "output_type": "stream",
     "text": [
      "100%|██████████████████████████████████████████████████████████████████████████████████| 78/78 [01:00<00:00,  1.30it/s]\n",
      "  0%|                                                                                           | 0/78 [00:00<?, ?it/s]"
     ]
    },
    {
     "name": "stdout",
     "output_type": "stream",
     "text": [
      "epoch: 14/25 \n",
      "train_loss: 0.6338, train_cindex: 0.6654, train_mse: 544.2218, val_loss: 1.6505, val_cindex: 0.7070, val_mse: 232.8106\n"
     ]
    },
    {
     "name": "stderr",
     "output_type": "stream",
     "text": [
      "100%|██████████████████████████████████████████████████████████████████████████████████| 78/78 [01:00<00:00,  1.30it/s]\n",
      "  0%|                                                                                           | 0/78 [00:00<?, ?it/s]"
     ]
    },
    {
     "name": "stdout",
     "output_type": "stream",
     "text": [
      "epoch: 15/25 \n",
      "train_loss: 0.6438, train_cindex: 0.6735, train_mse: 545.1453, val_loss: 1.6580, val_cindex: 0.7078, val_mse: 246.1200\n"
     ]
    },
    {
     "name": "stderr",
     "output_type": "stream",
     "text": [
      "100%|██████████████████████████████████████████████████████████████████████████████████| 78/78 [01:00<00:00,  1.29it/s]\n",
      "  0%|                                                                                           | 0/78 [00:00<?, ?it/s]"
     ]
    },
    {
     "name": "stdout",
     "output_type": "stream",
     "text": [
      "epoch: 16/25 \n",
      "train_loss: 0.6331, train_cindex: 0.6839, train_mse: 546.3317, val_loss: 1.6455, val_cindex: 0.7085, val_mse: 242.9852\n"
     ]
    },
    {
     "name": "stderr",
     "output_type": "stream",
     "text": [
      "100%|██████████████████████████████████████████████████████████████████████████████████| 78/78 [01:00<00:00,  1.29it/s]\n",
      "  0%|                                                                                           | 0/78 [00:00<?, ?it/s]"
     ]
    },
    {
     "name": "stdout",
     "output_type": "stream",
     "text": [
      "epoch: 17/25 \n",
      "train_loss: 0.6389, train_cindex: 0.6788, train_mse: 546.9975, val_loss: 1.6444, val_cindex: 0.7108, val_mse: 241.1664\n"
     ]
    },
    {
     "name": "stderr",
     "output_type": "stream",
     "text": [
      "100%|██████████████████████████████████████████████████████████████████████████████████| 78/78 [00:59<00:00,  1.31it/s]\n",
      "  0%|                                                                                           | 0/78 [00:00<?, ?it/s]"
     ]
    },
    {
     "name": "stdout",
     "output_type": "stream",
     "text": [
      "epoch: 18/25 \n",
      "train_loss: 0.6415, train_cindex: 0.6719, train_mse: 546.2474, val_loss: 1.6606, val_cindex: 0.7085, val_mse: 243.7393\n"
     ]
    },
    {
     "name": "stderr",
     "output_type": "stream",
     "text": [
      "100%|██████████████████████████████████████████████████████████████████████████████████| 78/78 [00:59<00:00,  1.32it/s]\n",
      "  0%|                                                                                           | 0/78 [00:00<?, ?it/s]"
     ]
    },
    {
     "name": "stdout",
     "output_type": "stream",
     "text": [
      "epoch: 19/25 \n",
      "train_loss: 0.6323, train_cindex: 0.6644, train_mse: 546.5858, val_loss: 1.6496, val_cindex: 0.7085, val_mse: 244.4449\n"
     ]
    },
    {
     "name": "stderr",
     "output_type": "stream",
     "text": [
      "100%|██████████████████████████████████████████████████████████████████████████████████| 78/78 [00:59<00:00,  1.30it/s]\n",
      "  0%|                                                                                           | 0/78 [00:00<?, ?it/s]"
     ]
    },
    {
     "name": "stdout",
     "output_type": "stream",
     "text": [
      "epoch: 20/25 \n",
      "train_loss: 0.6279, train_cindex: 0.6723, train_mse: 546.5958, val_loss: 1.6689, val_cindex: 0.7237, val_mse: 232.1609\n"
     ]
    },
    {
     "name": "stderr",
     "output_type": "stream",
     "text": [
      "100%|██████████████████████████████████████████████████████████████████████████████████| 78/78 [01:00<00:00,  1.29it/s]\n",
      "  0%|                                                                                           | 0/78 [00:00<?, ?it/s]"
     ]
    },
    {
     "name": "stdout",
     "output_type": "stream",
     "text": [
      "epoch: 21/25 \n",
      "train_loss: 0.6254, train_cindex: 0.6902, train_mse: 545.5713, val_loss: 1.6792, val_cindex: 0.7177, val_mse: 235.4340\n"
     ]
    },
    {
     "name": "stderr",
     "output_type": "stream",
     "text": [
      "100%|██████████████████████████████████████████████████████████████████████████████████| 78/78 [01:00<00:00,  1.29it/s]\n",
      "  0%|                                                                                           | 0/78 [00:00<?, ?it/s]"
     ]
    },
    {
     "name": "stdout",
     "output_type": "stream",
     "text": [
      "epoch: 22/25 \n",
      "train_loss: 0.6446, train_cindex: 0.6797, train_mse: 547.7267, val_loss: 1.6694, val_cindex: 0.7100, val_mse: 245.0035\n"
     ]
    },
    {
     "name": "stderr",
     "output_type": "stream",
     "text": [
      "100%|██████████████████████████████████████████████████████████████████████████████████| 78/78 [01:00<00:00,  1.28it/s]\n",
      "  0%|                                                                                           | 0/78 [00:00<?, ?it/s]"
     ]
    },
    {
     "name": "stdout",
     "output_type": "stream",
     "text": [
      "epoch: 23/25 \n",
      "train_loss: 0.6302, train_cindex: 0.6795, train_mse: 546.0645, val_loss: 1.6751, val_cindex: 0.7154, val_mse: 236.8564\n"
     ]
    },
    {
     "name": "stderr",
     "output_type": "stream",
     "text": [
      "100%|██████████████████████████████████████████████████████████████████████████████████| 78/78 [01:00<00:00,  1.29it/s]\n",
      "  0%|                                                                                           | 0/78 [00:00<?, ?it/s]"
     ]
    },
    {
     "name": "stdout",
     "output_type": "stream",
     "text": [
      "epoch: 24/25 \n",
      "train_loss: 0.6350, train_cindex: 0.6811, train_mse: 548.1623, val_loss: 1.6607, val_cindex: 0.7154, val_mse: 238.4621\n"
     ]
    },
    {
     "name": "stderr",
     "output_type": "stream",
     "text": [
      "100%|██████████████████████████████████████████████████████████████████████████████████| 78/78 [01:00<00:00,  1.29it/s]\n"
     ]
    },
    {
     "name": "stdout",
     "output_type": "stream",
     "text": [
      "epoch: 25/25 \n",
      "train_loss: 0.6466, train_cindex: 0.6767, train_mse: 548.7585, val_loss: 1.6410, val_cindex: 0.7062, val_mse: 237.5382\n",
      "Training complete in 27m 54s\n"
     ]
    }
   ],
   "source": [
    "from train import Trainer\n",
    "from utils.utils import CoxLoss, lifelines_cindex\n",
    "\n",
    "device = 'cuda:0'\n",
    "model.to(device)\n",
    "\n",
    "trainer = Trainer(model, train_loader, val_loader, criterion = CoxLoss, optimizer = optim.Adam,\n",
    "                  epochs = 25, lr = 0.0001, l2 = 0.001, device = device)\n",
    "trainer.fit()"
   ]
  },
  {
   "cell_type": "code",
   "execution_count": 11,
   "metadata": {
    "scrolled": false
   },
   "outputs": [
    {
     "data": {
      "image/png": "[encoded data removed]",
      "text/plain": [
       "<Figure size 432x288 with 1 Axes>"
      ]
     },
     "metadata": {
      "needs_background": "light"
     },
     "output_type": "display_data"
    },
    {
     "data": {
      "image/png": "[encoded data removed]",
      "text/plain": [
       "<Figure size 432x288 with 1 Axes>"
      ]
     },
     "metadata": {
      "needs_background": "light"
     },
     "output_type": "display_data"
    },
    {
     "data": {
      "image/png": "[encoded data removed]",
      "text/plain": [
       "<Figure size 432x288 with 1 Axes>"
      ]
     },
     "metadata": {
      "needs_background": "light"
     },
     "output_type": "display_data"
    }
   ],
   "source": [
    "import matplotlib.pyplot as plt\n",
    "%matplotlib inline\n",
    "\n",
    "history = trainer.history()\n",
    "plt.plot(history['train_cindices'])\n",
    "plt.plot(history['val_cindices'])\n",
    "plt.title('Train and Validation C-Index')\n",
    "plt.show()\n",
    "\n",
    "plt.plot(history['train_mse'])\n",
    "plt.plot(history['val_mse'])\n",
    "plt.title('Train and Validation MSE')\n",
    "plt.show()\n",
    "\n",
    "#plt.plot(history['train_losses'])\n",
    "plt.plot(history['val_losses'])\n",
    "plt.title('Train and Validation loss')\n",
    "plt.show()"
   ]
  },
  {
   "cell_type": "markdown",
   "metadata": {},
   "source": [
    "# Evaluation"
   ]
  },
  {
   "cell_type": "code",
   "execution_count": 12,
   "metadata": {
    "scrolled": true
   },
   "outputs": [
    {
     "name": "stderr",
     "output_type": "stream",
     "text": [
      "100%|██████████████████████████████████████████████████████████████████████████████████| 10/10 [00:06<00:00,  1.44it/s]"
     ]
    },
    {
     "name": "stdout",
     "output_type": "stream",
     "text": [
      "0.7091675447839831\n"
     ]
    },
    {
     "name": "stderr",
     "output_type": "stream",
     "text": [
      "\n"
     ]
    }
   ],
   "source": [
    "trainer.evaluation(test_loader, device)"
   ]
  },
  {
   "cell_type": "code",
   "execution_count": 13,
   "metadata": {},
   "outputs": [],
   "source": [
    "bst_model = trainer.get_best_model()\n",
    "bst_model.to('cpu')\n",
    "torch.save(bst_model.state_dict(), 'final_model.pt')"
   ]
  },
  {
   "cell_type": "code",
   "execution_count": null,
   "metadata": {},
   "outputs": [],
   "source": []
  }
 ],
 "metadata": {
  "kernelspec": {
   "display_name": "PyTorch",
   "language": "python",
   "name": "pytorch"
  },
  "language_info": {
   "codemirror_mode": {
    "name": "ipython",
    "version": 3
   },
   "file_extension": ".py",
   "mimetype": "text/x-python",
   "name": "python",
   "nbconvert_exporter": "python",
   "pygments_lexer": "ipython3",
   "version": "3.7.10"
  }
 },
 "nbformat": 4,
 "nbformat_minor": 4
}
